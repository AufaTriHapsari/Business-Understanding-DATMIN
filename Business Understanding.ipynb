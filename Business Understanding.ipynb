{
  "nbformat": 4,
  "nbformat_minor": 0,
  "metadata": {
    "colab": {
      "provenance": [],
      "authorship_tag": "ABX9TyPitxWw6YOXtzIo3WqoithQ",
      "include_colab_link": true
    },
    "kernelspec": {
      "name": "python3",
      "display_name": "Python 3"
    },
    "language_info": {
      "name": "python"
    }
  },
  "cells": [
    {
      "cell_type": "markdown",
      "metadata": {
        "id": "view-in-github",
        "colab_type": "text"
      },
      "source": [
        "<a href=\"https://colab.research.google.com/github/AufaTriHapsari/Business-Understanding-DATMIN/blob/main/Business%20Understanding.ipynb\" target=\"_parent\"><img src=\"https://colab.research.google.com/assets/colab-badge.svg\" alt=\"Open In Colab\"/></a>"
      ]
    },
    {
      "cell_type": "markdown",
      "source": [
        "# **\"Tinjauan Data Penerbangan dan Penumpang dalam memberikan informasi bagi Pengambilan Keputusan dan Peningkatan Operasional Maskapai Penerbangan\"**"
      ],
      "metadata": {
        "id": "GjXTmjRQtxsx"
      }
    },
    {
      "cell_type": "markdown",
      "source": [
        "**Business Understanding**"
      ],
      "metadata": {
        "id": "90gfa3JWuew7"
      }
    },
    {
      "cell_type": "markdown",
      "source": [
        "**Business Objective**\n",
        "\n",
        "Tujuan dari bisnis set ini adalah meningkatkan ketepatan waktu dan efisiensi operasional maskapai penerbangan dengan menggunakan analisis data untuk mengidentifikasi faktor penyebab keterlambatan dan pembatalan penerbangan serta merumuskan strategi yang tepat untuk meningkatkan kepuasan penumpang, serta merumuskan strategi untuk meningkatkan ketepatan waktu penerbangan dan meminimalkan gangguan operasional."
      ],
      "metadata": {
        "id": "JHo7kKt50aFf"
      }
    },
    {
      "cell_type": "markdown",
      "source": [
        "**Assess Situation**\n",
        "\n",
        "Situasi yang menjadi landasan analisis adalah kompleksitas operasional dalam industri penerbangan yang mencakup berbagai tantangan seperti keterlambatan dan pembatalan penerbangan, yang dapat berdampak negatif pada pengalaman pelanggan dan efisiensi operasional maskapai. Dalam hal ini, menjadi kunci untuk memahami akar penyebab dan mengetahui langkah atau keputusan serta menghindari keterlambatan."
      ],
      "metadata": {
        "id": "M4pxx32L0mY3"
      }
    },
    {
      "cell_type": "markdown",
      "source": [
        "**Data Mining Goals**\n",
        "\n",
        "Tujuan dari Data Mining Goals pada ataset ini adalah untuk memprediksi pola  dalam keterlambatan serta pembatalan penerbangan, maskapai dapat mengidentifikasi faktor-faktor yang berkontribusi terhadap gangguan operasional, seperti cuaca buruk atau masalah teknis pesawat, dan merumuskan strategi yang tepat untuk mengurangi dampaknya.Serta bertujuan untuk memahami preferensi dan perilaku pelanggan berdasarkan demografi dan rute penerbangan. Hal ini memungkinkan maskapai untuk menyesuaikan layanan mereka sesuai dengan kebutuhan pelanggan dan meningkatkan pengalaman mereka secara keseluruhan."
      ],
      "metadata": {
        "id": "G-EoaxW72u0J"
      }
    },
    {
      "cell_type": "markdown",
      "source": [
        "**Project Plan**\n",
        "\n",
        "Rencana proyek untuk melakukan analisis  dengan mengumpulkan data operasional penerbangan dan informasi penumpang dari sumber yang tersedia, Selanjutnya, dilakukan analisis karakteristik dan pola data untuk mengidentifikasi hubungan yang menarik, Eksplorasi data akan difokuskan pada korelasi dan interaksi antar variabel. Identifikasi masalah data akan menjadi langkah kunci untuk memastikan validitas dan keberhasilan selama tahap analisis berikutnya.\n"
      ],
      "metadata": {
        "id": "01EBHHPl339v"
      }
    }
  ]
}